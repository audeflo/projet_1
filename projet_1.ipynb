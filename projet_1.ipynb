{
 "cells": [
  {
   "cell_type": "code",
   "execution_count": 2,
   "metadata": {},
   "outputs": [],
   "source": [
    "import pandas as pd\n",
    "import numpy as np\n",
    "import datetime\n",
    "import matplotlib.pyplot as plt\n",
    "import seaborn as sns\n",
    "import os"
   ]
  },
  {
   "cell_type": "code",
   "execution_count": 3,
   "metadata": {},
   "outputs": [],
   "source": [
    "# ----------------------IMPORTATION DES DONNEES------------------------------\n",
    "def importation(path):\n",
    "    return pd.read_csv(path, encoding='ISO-8859-1')"
   ]
  },
  {
   "cell_type": "code",
   "execution_count": 4,
   "metadata": {},
   "outputs": [
    {
     "name": "stdout",
     "output_type": "stream",
     "text": [
      "TABLE CUSTOMERS\n",
      "TABLE EXCHANGE\n",
      "TABLE PRODUCT\n",
      "TABLE SALES\n",
      "TABLE STORE\n"
     ]
    },
    {
     "data": {
      "text/html": [
       "<div>\n",
       "<style scoped>\n",
       "    .dataframe tbody tr th:only-of-type {\n",
       "        vertical-align: middle;\n",
       "    }\n",
       "\n",
       "    .dataframe tbody tr th {\n",
       "        vertical-align: top;\n",
       "    }\n",
       "\n",
       "    .dataframe thead th {\n",
       "        text-align: right;\n",
       "    }\n",
       "</style>\n",
       "<table border=\"1\" class=\"dataframe\">\n",
       "  <thead>\n",
       "    <tr style=\"text-align: right;\">\n",
       "      <th></th>\n",
       "      <th>StoreKey</th>\n",
       "      <th>Country</th>\n",
       "      <th>State</th>\n",
       "      <th>Square Meters</th>\n",
       "      <th>Open Date</th>\n",
       "    </tr>\n",
       "  </thead>\n",
       "  <tbody>\n",
       "    <tr>\n",
       "      <th>0</th>\n",
       "      <td>1</td>\n",
       "      <td>Australia</td>\n",
       "      <td>Australian Capital Territory</td>\n",
       "      <td>595.0</td>\n",
       "      <td>1/1/2008</td>\n",
       "    </tr>\n",
       "    <tr>\n",
       "      <th>1</th>\n",
       "      <td>2</td>\n",
       "      <td>Australia</td>\n",
       "      <td>Northern Territory</td>\n",
       "      <td>665.0</td>\n",
       "      <td>1/12/2008</td>\n",
       "    </tr>\n",
       "    <tr>\n",
       "      <th>2</th>\n",
       "      <td>3</td>\n",
       "      <td>Australia</td>\n",
       "      <td>South Australia</td>\n",
       "      <td>2000.0</td>\n",
       "      <td>1/7/2012</td>\n",
       "    </tr>\n",
       "    <tr>\n",
       "      <th>3</th>\n",
       "      <td>4</td>\n",
       "      <td>Australia</td>\n",
       "      <td>Tasmania</td>\n",
       "      <td>2000.0</td>\n",
       "      <td>1/1/2010</td>\n",
       "    </tr>\n",
       "    <tr>\n",
       "      <th>4</th>\n",
       "      <td>5</td>\n",
       "      <td>Australia</td>\n",
       "      <td>Victoria</td>\n",
       "      <td>2000.0</td>\n",
       "      <td>12/9/2015</td>\n",
       "    </tr>\n",
       "  </tbody>\n",
       "</table>\n",
       "</div>"
      ],
      "text/plain": [
       "   StoreKey    Country                         State  Square Meters  Open Date\n",
       "0         1  Australia  Australian Capital Territory          595.0   1/1/2008\n",
       "1         2  Australia            Northern Territory          665.0  1/12/2008\n",
       "2         3  Australia               South Australia         2000.0   1/7/2012\n",
       "3         4  Australia                      Tasmania         2000.0   1/1/2010\n",
       "4         5  Australia                      Victoria         2000.0  12/9/2015"
      ]
     },
     "execution_count": 4,
     "metadata": {},
     "output_type": "execute_result"
    }
   ],
   "source": [
    "# customers\n",
    "print(\"TABLE CUSTOMERS\")\n",
    "cst_path = \"./datasets/Customers.csv\"\n",
    "customer = importation(cst_path)\n",
    "\n",
    "customer.head()\n",
    "\n",
    "# exchange\n",
    "print(\"TABLE EXCHANGE\")\n",
    "exc_path= \"./datasets/Exchange_Rates.csv\"\n",
    "exchange = importation(exc_path)\n",
    "exchange.head()\n",
    "\n",
    "\n",
    "# product\n",
    "print(\"TABLE PRODUCT\")\n",
    "prod_path= \"./datasets/Products.csv\"\n",
    "product = importation(prod_path)\n",
    "product.head()\n",
    "\n",
    "\n",
    "# sales\n",
    "print(\"TABLE SALES\")\n",
    "sls_path= \"./datasets/Sales.csv\"\n",
    "sales = importation(sls_path)\n",
    "sales.head()\n",
    "\n",
    "\n",
    "# store\n",
    "print(\"TABLE STORE\")\n",
    "str_path= \"./datasets/Stores.csv\"\n",
    "store = importation(str_path)\n",
    "store.head()\n"
   ]
  },
  {
   "cell_type": "code",
   "execution_count": 5,
   "metadata": {},
   "outputs": [
    {
     "name": "stdout",
     "output_type": "stream",
     "text": [
      "<class 'pandas.core.frame.DataFrame'>\n",
      "RangeIndex: 15266 entries, 0 to 15265\n",
      "Data columns (total 10 columns):\n",
      " #   Column          Non-Null Count  Dtype \n",
      "---  ------          --------------  ----- \n",
      " 0   customer_id     15266 non-null  int64 \n",
      " 1   gender          15266 non-null  object\n",
      " 2   name            15266 non-null  object\n",
      " 3   cst_city        15266 non-null  object\n",
      " 4   cst_state_code  15256 non-null  object\n",
      " 5   cst_state       15266 non-null  object\n",
      " 6   cst_zip_code    15266 non-null  object\n",
      " 7   cst_country     15266 non-null  object\n",
      " 8   cst_continent   15266 non-null  object\n",
      " 9   cst_birthday    15266 non-null  object\n",
      "dtypes: int64(1), object(9)\n",
      "memory usage: 1.2+ MB\n",
      "<class 'pandas.core.frame.DataFrame'>\n",
      "RangeIndex: 11215 entries, 0 to 11214\n",
      "Data columns (total 3 columns):\n",
      " #   Column         Non-Null Count  Dtype  \n",
      "---  ------         --------------  -----  \n",
      " 0   exchange_date  11215 non-null  object \n",
      " 1   currency_code  11215 non-null  object \n",
      " 2   exchange       11215 non-null  float64\n",
      "dtypes: float64(1), object(2)\n",
      "memory usage: 263.0+ KB\n",
      "<class 'pandas.core.frame.DataFrame'>\n",
      "RangeIndex: 2517 entries, 0 to 2516\n",
      "Data columns (total 10 columns):\n",
      " #   Column          Non-Null Count  Dtype \n",
      "---  ------          --------------  ----- \n",
      " 0   product_id      2517 non-null   int64 \n",
      " 1   product_name    2517 non-null   object\n",
      " 2   brand           2517 non-null   object\n",
      " 3   color           2517 non-null   object\n",
      " 4   unit_cost_USD   2517 non-null   object\n",
      " 5   unit_price_USD  2517 non-null   object\n",
      " 6   subcategory_id  2517 non-null   int64 \n",
      " 7   subcategory     2517 non-null   object\n",
      " 8   category_id     2517 non-null   int64 \n",
      " 9   category        2517 non-null   object\n",
      "dtypes: int64(3), object(7)\n",
      "memory usage: 196.8+ KB\n",
      "<class 'pandas.core.frame.DataFrame'>\n",
      "RangeIndex: 62884 entries, 0 to 62883\n",
      "Data columns (total 9 columns):\n",
      " #   Column         Non-Null Count  Dtype \n",
      "---  ------         --------------  ----- \n",
      " 0   order_number   62884 non-null  int64 \n",
      " 1   line_item      62884 non-null  int64 \n",
      " 2   order_date     62884 non-null  object\n",
      " 3   delivery_date  13165 non-null  object\n",
      " 4   customer_id    62884 non-null  int64 \n",
      " 5   store_id       62884 non-null  int64 \n",
      " 6   product_id     62884 non-null  int64 \n",
      " 7   quantity       62884 non-null  int64 \n",
      " 8   currency_code  62884 non-null  object\n",
      "dtypes: int64(6), object(3)\n",
      "memory usage: 4.3+ MB\n",
      "<class 'pandas.core.frame.DataFrame'>\n",
      "RangeIndex: 67 entries, 0 to 66\n",
      "Data columns (total 5 columns):\n",
      " #   Column         Non-Null Count  Dtype  \n",
      "---  ------         --------------  -----  \n",
      " 0   store_id       67 non-null     int64  \n",
      " 1   st_country     67 non-null     object \n",
      " 2   store_state    67 non-null     object \n",
      " 3   square_meters  66 non-null     float64\n",
      " 4   open_date      67 non-null     object \n",
      "dtypes: float64(1), int64(1), object(3)\n",
      "memory usage: 2.7+ KB\n"
     ]
    }
   ],
   "source": [
    "# ----------------------RENOMMER LES COLONNES------------------------------\n",
    "\n",
    "\n",
    "customer\n",
    "customer= customer.rename(columns={\"CustomerKey\": \"customer_id\",\"Gender\": \"gender\", \"Name\": \"name\", \"City\":\"cst_city\",\"State Code\": \"cst_state_code\",\"State\" : \"cst_state\",\"Zip Code\":\"cst_zip_code\",\"Country\" : \"cst_country\",\"Continent\": \"cst_continent\",\"Birthday\":\"cst_birthday\"})\n",
    "customer.info()\n",
    "\n",
    "# exchange\n",
    "exchange = exchange.rename(columns={\"Date\": \"exchange_date\", \"Currency\":\"currency_code\", \"Exchange\":\"exchange\"})\n",
    "exchange.info()\n",
    "\n",
    "\n",
    "# product\n",
    "product = product.rename(columns={\"ProductKey\": \"product_id\",\"Product Name\": \"product_name\",\n",
    "\"Brand\": \"brand\", \"Color\": \"color\", \"Unit Cost USD\": \"unit_cost_USD\",\"Unit Price USD\": \"unit_price_USD\", \n",
    "\"SubcategoryKey\": \"subcategory_id\",\"Subcategory\": \"subcategory\", \"CategoryKey\": \"category_id\", \"Category\":\"category\"})\n",
    "\n",
    "product.info()\n",
    "\n",
    "# sales\n",
    "sales = sales.rename(columns={\"Order Number\" : \"order_number\",\"Line Item\" : \"line_item\", \"Order Date\":\"order_date\",\n",
    "\"Delivery Date\":\"delivery_date\", \"CustomerKey\": \"customer_id\" , \"StoreKey\":\"store_id\" ,\"ProductKey\": \"product_id\",\n",
    "\"Quantity\":\"quantity\", \"Currency Code\":\"currency_code\"})\n",
    "sales.info()\n",
    "\n",
    "# store\n",
    "store = store.rename(columns={\"StoreKey\":\"store_id\",\"State\":\"store_state\", \"Square Meters\":\"square_meters\", \"Open Date\":\"open_date\", \"Country\":\"st_country\"})\n",
    "store.info()\n"
   ]
  },
  {
   "cell_type": "code",
   "execution_count": 6,
   "metadata": {},
   "outputs": [
    {
     "name": "stdout",
     "output_type": "stream",
     "text": [
      "<class 'pandas.core.frame.DataFrame'>\n",
      "RangeIndex: 15266 entries, 0 to 15265\n",
      "Data columns (total 10 columns):\n",
      " #   Column          Non-Null Count  Dtype \n",
      "---  ------          --------------  ----- \n",
      " 0   customer_id     15266 non-null  int64 \n",
      " 1   gender          15266 non-null  object\n",
      " 2   name            15266 non-null  object\n",
      " 3   cst_city        15266 non-null  object\n",
      " 4   cst_state_code  15256 non-null  object\n",
      " 5   cst_state       15266 non-null  object\n",
      " 6   cst_zip_code    15266 non-null  object\n",
      " 7   cst_country     15266 non-null  object\n",
      " 8   cst_continent   15266 non-null  object\n",
      " 9   cst_birthday    15266 non-null  object\n",
      "dtypes: int64(1), object(9)\n",
      "memory usage: 1.2+ MB\n"
     ]
    }
   ],
   "source": [
    "# ----------------------INFORMATION SUR LES TYPES DE DONNEES------------------------------\n",
    "\n",
    "customer.info()\n",
    "exchange.info()\n",
    "product.info()\n",
    "sales.info()\n",
    "store.info()"
   ]
  },
  {
   "cell_type": "code",
   "execution_count": 7,
   "metadata": {},
   "outputs": [
    {
     "name": "stdout",
     "output_type": "stream",
     "text": [
      "<class 'pandas.core.frame.DataFrame'>\n",
      "RangeIndex: 15266 entries, 0 to 15265\n",
      "Data columns (total 10 columns):\n",
      " #   Column          Non-Null Count  Dtype         \n",
      "---  ------          --------------  -----         \n",
      " 0   customer_id     15266 non-null  object        \n",
      " 1   gender          15266 non-null  object        \n",
      " 2   name            15266 non-null  object        \n",
      " 3   cst_city        15266 non-null  object        \n",
      " 4   cst_state_code  15256 non-null  object        \n",
      " 5   cst_state       15266 non-null  object        \n",
      " 6   cst_zip_code    15266 non-null  object        \n",
      " 7   cst_country     15266 non-null  object        \n",
      " 8   cst_continent   15266 non-null  object        \n",
      " 9   cst_birthday    15266 non-null  datetime64[ns]\n",
      "dtypes: datetime64[ns](1), object(9)\n",
      "memory usage: 1.2+ MB\n",
      "<class 'pandas.core.frame.DataFrame'>\n",
      "RangeIndex: 11215 entries, 0 to 11214\n",
      "Data columns (total 3 columns):\n",
      " #   Column         Non-Null Count  Dtype  \n",
      "---  ------         --------------  -----  \n",
      " 0   exchange_date  11215 non-null  object \n",
      " 1   currency_code  11215 non-null  object \n",
      " 2   exchange       11215 non-null  float64\n",
      "dtypes: float64(1), object(2)\n",
      "memory usage: 263.0+ KB\n",
      "<class 'pandas.core.frame.DataFrame'>\n",
      "RangeIndex: 2517 entries, 0 to 2516\n",
      "Data columns (total 10 columns):\n",
      " #   Column          Non-Null Count  Dtype  \n",
      "---  ------          --------------  -----  \n",
      " 0   product_id      2517 non-null   object \n",
      " 1   product_name    2517 non-null   object \n",
      " 2   brand           2517 non-null   object \n",
      " 3   color           2517 non-null   object \n",
      " 4   unit_cost_USD   2517 non-null   float64\n",
      " 5   unit_price_USD  2517 non-null   float64\n",
      " 6   subcategory_id  2517 non-null   object \n",
      " 7   subcategory     2517 non-null   object \n",
      " 8   category_id     2517 non-null   object \n",
      " 9   category        2517 non-null   object \n",
      "dtypes: float64(2), object(8)\n",
      "memory usage: 196.8+ KB\n",
      "<class 'pandas.core.frame.DataFrame'>\n",
      "RangeIndex: 62884 entries, 0 to 62883\n",
      "Data columns (total 9 columns):\n",
      " #   Column         Non-Null Count  Dtype         \n",
      "---  ------         --------------  -----         \n",
      " 0   order_number   62884 non-null  object        \n",
      " 1   line_item      62884 non-null  int64         \n",
      " 2   order_date     62884 non-null  datetime64[ns]\n",
      " 3   delivery_date  13165 non-null  datetime64[ns]\n",
      " 4   customer_id    62884 non-null  object        \n",
      " 5   store_id       62884 non-null  object        \n",
      " 6   product_id     62884 non-null  object        \n",
      " 7   quantity       62884 non-null  int64         \n",
      " 8   currency_code  62884 non-null  object        \n",
      "dtypes: datetime64[ns](2), int64(2), object(5)\n",
      "memory usage: 4.3+ MB\n",
      "<class 'pandas.core.frame.DataFrame'>\n",
      "RangeIndex: 67 entries, 0 to 66\n",
      "Data columns (total 5 columns):\n",
      " #   Column         Non-Null Count  Dtype         \n",
      "---  ------         --------------  -----         \n",
      " 0   store_id       67 non-null     object        \n",
      " 1   st_country     67 non-null     object        \n",
      " 2   store_state    67 non-null     object        \n",
      " 3   square_meters  66 non-null     float64       \n",
      " 4   open_date      67 non-null     datetime64[ns]\n",
      "dtypes: datetime64[ns](1), float64(1), object(3)\n",
      "memory usage: 2.7+ KB\n"
     ]
    },
    {
     "data": {
      "text/html": [
       "<div>\n",
       "<style scoped>\n",
       "    .dataframe tbody tr th:only-of-type {\n",
       "        vertical-align: middle;\n",
       "    }\n",
       "\n",
       "    .dataframe tbody tr th {\n",
       "        vertical-align: top;\n",
       "    }\n",
       "\n",
       "    .dataframe thead th {\n",
       "        text-align: right;\n",
       "    }\n",
       "</style>\n",
       "<table border=\"1\" class=\"dataframe\">\n",
       "  <thead>\n",
       "    <tr style=\"text-align: right;\">\n",
       "      <th></th>\n",
       "      <th>store_id</th>\n",
       "      <th>st_country</th>\n",
       "      <th>store_state</th>\n",
       "      <th>square_meters</th>\n",
       "      <th>open_date</th>\n",
       "    </tr>\n",
       "  </thead>\n",
       "  <tbody>\n",
       "    <tr>\n",
       "      <th>0</th>\n",
       "      <td>1</td>\n",
       "      <td>Australia</td>\n",
       "      <td>Australian Capital Territory</td>\n",
       "      <td>595.0</td>\n",
       "      <td>2008-01-01</td>\n",
       "    </tr>\n",
       "    <tr>\n",
       "      <th>1</th>\n",
       "      <td>2</td>\n",
       "      <td>Australia</td>\n",
       "      <td>Northern Territory</td>\n",
       "      <td>665.0</td>\n",
       "      <td>2008-01-12</td>\n",
       "    </tr>\n",
       "    <tr>\n",
       "      <th>2</th>\n",
       "      <td>3</td>\n",
       "      <td>Australia</td>\n",
       "      <td>South Australia</td>\n",
       "      <td>2000.0</td>\n",
       "      <td>2012-01-07</td>\n",
       "    </tr>\n",
       "    <tr>\n",
       "      <th>3</th>\n",
       "      <td>4</td>\n",
       "      <td>Australia</td>\n",
       "      <td>Tasmania</td>\n",
       "      <td>2000.0</td>\n",
       "      <td>2010-01-01</td>\n",
       "    </tr>\n",
       "    <tr>\n",
       "      <th>4</th>\n",
       "      <td>5</td>\n",
       "      <td>Australia</td>\n",
       "      <td>Victoria</td>\n",
       "      <td>2000.0</td>\n",
       "      <td>2015-12-09</td>\n",
       "    </tr>\n",
       "  </tbody>\n",
       "</table>\n",
       "</div>"
      ],
      "text/plain": [
       "  store_id st_country                   store_state  square_meters  open_date\n",
       "0        1  Australia  Australian Capital Territory          595.0 2008-01-01\n",
       "1        2  Australia            Northern Territory          665.0 2008-01-12\n",
       "2        3  Australia               South Australia         2000.0 2012-01-07\n",
       "3        4  Australia                      Tasmania         2000.0 2010-01-01\n",
       "4        5  Australia                      Victoria         2000.0 2015-12-09"
      ]
     },
     "execution_count": 7,
     "metadata": {},
     "output_type": "execute_result"
    }
   ],
   "source": [
    "# ----------------------MODIFICATION DES TYPES DE DONNEES NECESSAIRES------------------------------\n",
    "\n",
    "\n",
    "# customer\n",
    "customer['customer_id'] = customer['customer_id'].astype(str)\n",
    "\n",
    "customer['cst_birthday'] = pd.to_datetime(customer['cst_birthday'], format='%m/%d/%Y')\n",
    "\n",
    "customer.info()\n",
    "customer.head()\n",
    "\n",
    "\n",
    "# exchange\n",
    "exchange['exchange_date']  = pd.to_datetime(exchange['exchange_date'] )\n",
    "exchange['exchange_date']  = exchange['exchange_date'] .dt.strftime('%m/%d/%Y')\n",
    "\n",
    "exchange['exchange'] = exchange['exchange'].astype(str).str.replace('.', ',')\n",
    "exchange['exchange'] = exchange['exchange'].str.replace(',', '.').astype(float)\n",
    "\n",
    "exchange.info()\n",
    "exchange.head()\n",
    "\n",
    "\n",
    "# product\n",
    "\n",
    "product['product_id'] = product['product_id'].astype(str)\n",
    "\n",
    "product['unit_cost_USD'] = product['unit_cost_USD'].astype(str).str.replace('$', '')\n",
    "product['unit_cost_USD'] = product['unit_cost_USD'].astype(str).str.replace(',', '')\n",
    "product['unit_cost_USD'] = product['unit_cost_USD'].astype(str).str.replace('.', ',')\n",
    "product['unit_cost_USD'] = product['unit_cost_USD'].str.replace(',', '.').astype(float)\n",
    "\n",
    "product['unit_price_USD'] = product['unit_price_USD'].astype(str).str.replace('$', '')\n",
    "product['unit_price_USD'] = product['unit_price_USD'].astype(str).str.replace(',', '')\n",
    "product['unit_price_USD'] = product['unit_price_USD'].astype(str).str.replace('.', ',')\n",
    "product['unit_price_USD'] = product['unit_price_USD'].str.replace(',', '.').astype(float)\n",
    "\n",
    "# enlever le nom des marques sur le nom du produit\n",
    "product['product_name'] = product['product_name'].astype(str).str.replace('Contoso', '')\n",
    "product['product_name'] = product['product_name'].astype(str).str.replace('WWI', '')\n",
    "product['product_name'] = product['product_name'].astype(str).str.replace('NT', '')\n",
    "product['product_name'] = product['product_name'].astype(str).str.replace('Adventure Works', '')\n",
    "product['product_name'] = product['product_name'].astype(str).str.replace('SV', '')\n",
    "product['product_name'] = product['product_name'].astype(str).str.replace('A. Datum', '')\n",
    "product['product_name'] = product['product_name'].astype(str).str.replace('Fabrikam', '')\n",
    "product['product_name'] = product['product_name'].astype(str).str.replace('Litware ', '')\n",
    "product['product_name'] = product['product_name'].astype(str).str.replace('Proseware', '')\n",
    "product['product_name'] = product['product_name'].astype(str).str.replace('MGS ', '')\n",
    "product['product_name'] = product['product_name'].astype(str).str.replace('The Phone Company', '')\n",
    "\n",
    "# enlever les couleurs dans le nom du produit\n",
    "product['product_name'] = product['product_name'].astype(str).str.replace('Azure', '')\n",
    "product['product_name'] = product['product_name'].astype(str).str.replace('Black', '')\n",
    "product['product_name'] = product['product_name'].astype(str).str.replace('Blue', '')\n",
    "product['product_name'] = product['product_name'].astype(str).str.replace('Brown', '')\n",
    "product['product_name'] = product['product_name'].astype(str).str.replace('Grey', '')\n",
    "product['product_name'] = product['product_name'].astype(str).str.replace('Gold', '')\n",
    "product['product_name'] = product['product_name'].astype(str).str.replace('Green', '')\n",
    "product['product_name'] = product['product_name'].astype(str).str.replace('Orange', '')\n",
    "product['product_name'] = product['product_name'].astype(str).str.replace('Pink', '')\n",
    "product['product_name'] = product['product_name'].astype(str).str.replace('Purple', '')\n",
    "product['product_name'] = product['product_name'].astype(str).str.replace('Red', '')\n",
    "product['product_name'] = product['product_name'].astype(str).str.replace('Silver', '')\n",
    "product['product_name'] = product['product_name'].astype(str).str.replace('Silver Grey', '')\n",
    "product['product_name'] = product['product_name'].astype(str).str.replace('Transparent', '')\n",
    "product['product_name'] = product['product_name'].astype(str).str.replace('White', '')\n",
    "product['product_name'] = product['product_name'].astype(str).str.replace('Yellow', '')\n",
    "\n",
    "product['subcategory_id'] = product['subcategory_id'].astype(str)\n",
    "\n",
    "product['category_id'] = product['category_id'].astype(str)\n",
    "\n",
    "product.info()\n",
    "product.head()\n",
    "\n",
    "\n",
    "# sales\n",
    "\n",
    "sales['order_number'] = sales['order_number'].astype(str)\n",
    "\n",
    "sales['order_date'] = pd.to_datetime(sales['order_date'])\n",
    "\n",
    "sales['delivery_date'] = pd.to_datetime(sales['delivery_date'])\n",
    "\n",
    "sales['customer_id'] = sales['customer_id'].astype(str)\n",
    "\n",
    "sales['store_id'] = sales['store_id'].astype(str)\n",
    "\n",
    "sales['product_id'] = sales['product_id'].astype(str)\n",
    "\n",
    "sales.info()\n",
    "sales.head()\n",
    "\n",
    "\n",
    "# store\n",
    "store['store_id'] = store['store_id'].astype(str)\n",
    "\n",
    "store['square_meters'] = store['square_meters'].astype(str).str.replace('.', ',')\n",
    "store['square_meters'] = store['square_meters'].str.replace(',', '.').astype(float)\n",
    "\n",
    "store['open_date'] = pd.to_datetime(store['open_date'])\n",
    "\n",
    "store.info()\n",
    "store.head()"
   ]
  },
  {
   "cell_type": "code",
   "execution_count": 8,
   "metadata": {},
   "outputs": [
    {
     "name": "stdout",
     "output_type": "stream",
     "text": [
      "<class 'pandas.core.frame.DataFrame'>\n",
      "RangeIndex: 62884 entries, 0 to 62883\n",
      "Data columns (total 31 columns):\n",
      " #   Column          Non-Null Count  Dtype         \n",
      "---  ------          --------------  -----         \n",
      " 0   order_number    62884 non-null  object        \n",
      " 1   line_item       62884 non-null  int64         \n",
      " 2   order_date      62884 non-null  datetime64[ns]\n",
      " 3   delivery_date   13165 non-null  datetime64[ns]\n",
      " 4   customer_id     62884 non-null  object        \n",
      " 5   store_id        62884 non-null  object        \n",
      " 6   product_id      62884 non-null  object        \n",
      " 7   quantity        62884 non-null  int64         \n",
      " 8   currency_code   62884 non-null  object        \n",
      " 9   gender          62884 non-null  object        \n",
      " 10  name            62884 non-null  object        \n",
      " 11  cst_city        62884 non-null  object        \n",
      " 12  cst_state_code  62854 non-null  object        \n",
      " 13  cst_state       62884 non-null  object        \n",
      " 14  cst_zip_code    62884 non-null  object        \n",
      " 15  cst_country     62884 non-null  object        \n",
      " 16  cst_continent   62884 non-null  object        \n",
      " 17  cst_birthday    62884 non-null  datetime64[ns]\n",
      " 18  st_country      62884 non-null  object        \n",
      " 19  store_state     62884 non-null  object        \n",
      " 20  square_meters   49719 non-null  float64       \n",
      " 21  open_date       62884 non-null  datetime64[ns]\n",
      " 22  product_name    62884 non-null  object        \n",
      " 23  brand           62884 non-null  object        \n",
      " 24  color           62884 non-null  object        \n",
      " 25  unit_cost_USD   62884 non-null  float64       \n",
      " 26  unit_price_USD  62884 non-null  float64       \n",
      " 27  subcategory_id  62884 non-null  object        \n",
      " 28  subcategory     62884 non-null  object        \n",
      " 29  category_id     62884 non-null  object        \n",
      " 30  category        62884 non-null  object        \n",
      "dtypes: datetime64[ns](4), float64(3), int64(2), object(22)\n",
      "memory usage: 14.9+ MB\n"
     ]
    },
    {
     "data": {
      "text/html": [
       "<div>\n",
       "<style scoped>\n",
       "    .dataframe tbody tr th:only-of-type {\n",
       "        vertical-align: middle;\n",
       "    }\n",
       "\n",
       "    .dataframe tbody tr th {\n",
       "        vertical-align: top;\n",
       "    }\n",
       "\n",
       "    .dataframe thead th {\n",
       "        text-align: right;\n",
       "    }\n",
       "</style>\n",
       "<table border=\"1\" class=\"dataframe\">\n",
       "  <thead>\n",
       "    <tr style=\"text-align: right;\">\n",
       "      <th></th>\n",
       "      <th>order_number</th>\n",
       "      <th>line_item</th>\n",
       "      <th>order_date</th>\n",
       "      <th>delivery_date</th>\n",
       "      <th>customer_id</th>\n",
       "      <th>store_id</th>\n",
       "      <th>product_id</th>\n",
       "      <th>quantity</th>\n",
       "      <th>currency_code</th>\n",
       "      <th>gender</th>\n",
       "      <th>...</th>\n",
       "      <th>open_date</th>\n",
       "      <th>product_name</th>\n",
       "      <th>brand</th>\n",
       "      <th>color</th>\n",
       "      <th>unit_cost_USD</th>\n",
       "      <th>unit_price_USD</th>\n",
       "      <th>subcategory_id</th>\n",
       "      <th>subcategory</th>\n",
       "      <th>category_id</th>\n",
       "      <th>category</th>\n",
       "    </tr>\n",
       "  </thead>\n",
       "  <tbody>\n",
       "    <tr>\n",
       "      <th>0</th>\n",
       "      <td>366000</td>\n",
       "      <td>1</td>\n",
       "      <td>2016-01-01</td>\n",
       "      <td>NaT</td>\n",
       "      <td>265598</td>\n",
       "      <td>10</td>\n",
       "      <td>1304</td>\n",
       "      <td>1</td>\n",
       "      <td>CAD</td>\n",
       "      <td>Male</td>\n",
       "      <td>...</td>\n",
       "      <td>2015-04-04</td>\n",
       "      <td>Lens Adapter M450</td>\n",
       "      <td>Contoso</td>\n",
       "      <td>White</td>\n",
       "      <td>31.27</td>\n",
       "      <td>68.00</td>\n",
       "      <td>406</td>\n",
       "      <td>Cameras &amp; Camcorders Accessories</td>\n",
       "      <td>4</td>\n",
       "      <td>Cameras and camcorders</td>\n",
       "    </tr>\n",
       "    <tr>\n",
       "      <th>1</th>\n",
       "      <td>366001</td>\n",
       "      <td>1</td>\n",
       "      <td>2016-01-01</td>\n",
       "      <td>2016-01-13</td>\n",
       "      <td>1269051</td>\n",
       "      <td>0</td>\n",
       "      <td>1048</td>\n",
       "      <td>2</td>\n",
       "      <td>USD</td>\n",
       "      <td>Male</td>\n",
       "      <td>...</td>\n",
       "      <td>2010-01-01</td>\n",
       "      <td>SLR Camera X136</td>\n",
       "      <td>A. Datum</td>\n",
       "      <td>Silver</td>\n",
       "      <td>141.47</td>\n",
       "      <td>427.00</td>\n",
       "      <td>402</td>\n",
       "      <td>Digital SLR Cameras</td>\n",
       "      <td>4</td>\n",
       "      <td>Cameras and camcorders</td>\n",
       "    </tr>\n",
       "    <tr>\n",
       "      <th>2</th>\n",
       "      <td>366001</td>\n",
       "      <td>2</td>\n",
       "      <td>2016-01-01</td>\n",
       "      <td>2016-01-13</td>\n",
       "      <td>1269051</td>\n",
       "      <td>0</td>\n",
       "      <td>2007</td>\n",
       "      <td>1</td>\n",
       "      <td>USD</td>\n",
       "      <td>Male</td>\n",
       "      <td>...</td>\n",
       "      <td>2010-01-01</td>\n",
       "      <td>Microwave 1.5CuFt X1100</td>\n",
       "      <td>Fabrikam</td>\n",
       "      <td>Black</td>\n",
       "      <td>220.64</td>\n",
       "      <td>665.94</td>\n",
       "      <td>803</td>\n",
       "      <td>Microwaves</td>\n",
       "      <td>8</td>\n",
       "      <td>Home Appliances</td>\n",
       "    </tr>\n",
       "    <tr>\n",
       "      <th>3</th>\n",
       "      <td>366002</td>\n",
       "      <td>1</td>\n",
       "      <td>2016-01-01</td>\n",
       "      <td>2016-01-12</td>\n",
       "      <td>266019</td>\n",
       "      <td>0</td>\n",
       "      <td>1106</td>\n",
       "      <td>7</td>\n",
       "      <td>CAD</td>\n",
       "      <td>Female</td>\n",
       "      <td>...</td>\n",
       "      <td>2010-01-01</td>\n",
       "      <td>SLR Camera M146</td>\n",
       "      <td>Contoso</td>\n",
       "      <td>Orange</td>\n",
       "      <td>148.08</td>\n",
       "      <td>322.00</td>\n",
       "      <td>402</td>\n",
       "      <td>Digital SLR Cameras</td>\n",
       "      <td>4</td>\n",
       "      <td>Cameras and camcorders</td>\n",
       "    </tr>\n",
       "    <tr>\n",
       "      <th>4</th>\n",
       "      <td>366002</td>\n",
       "      <td>2</td>\n",
       "      <td>2016-01-01</td>\n",
       "      <td>2016-01-12</td>\n",
       "      <td>266019</td>\n",
       "      <td>0</td>\n",
       "      <td>373</td>\n",
       "      <td>1</td>\n",
       "      <td>CAD</td>\n",
       "      <td>Female</td>\n",
       "      <td>...</td>\n",
       "      <td>2010-01-01</td>\n",
       "      <td>Laptop8.9 E0890</td>\n",
       "      <td>Adventure Works</td>\n",
       "      <td>White</td>\n",
       "      <td>166.20</td>\n",
       "      <td>326.00</td>\n",
       "      <td>301</td>\n",
       "      <td>Laptops</td>\n",
       "      <td>3</td>\n",
       "      <td>Computers</td>\n",
       "    </tr>\n",
       "  </tbody>\n",
       "</table>\n",
       "<p>5 rows × 31 columns</p>\n",
       "</div>"
      ],
      "text/plain": [
       "  order_number  line_item order_date delivery_date customer_id store_id  \\\n",
       "0       366000          1 2016-01-01           NaT      265598       10   \n",
       "1       366001          1 2016-01-01    2016-01-13     1269051        0   \n",
       "2       366001          2 2016-01-01    2016-01-13     1269051        0   \n",
       "3       366002          1 2016-01-01    2016-01-12      266019        0   \n",
       "4       366002          2 2016-01-01    2016-01-12      266019        0   \n",
       "\n",
       "  product_id  quantity currency_code  gender  ...  open_date  \\\n",
       "0       1304         1           CAD    Male  ... 2015-04-04   \n",
       "1       1048         2           USD    Male  ... 2010-01-01   \n",
       "2       2007         1           USD    Male  ... 2010-01-01   \n",
       "3       1106         7           CAD  Female  ... 2010-01-01   \n",
       "4        373         1           CAD  Female  ... 2010-01-01   \n",
       "\n",
       "                product_name            brand   color unit_cost_USD  \\\n",
       "0         Lens Adapter M450           Contoso   White         31.27   \n",
       "1           SLR Camera X136          A. Datum  Silver        141.47   \n",
       "2   Microwave 1.5CuFt X1100          Fabrikam   Black        220.64   \n",
       "3           SLR Camera M146           Contoso  Orange        148.08   \n",
       "4           Laptop8.9 E0890   Adventure Works   White        166.20   \n",
       "\n",
       "  unit_price_USD subcategory_id                       subcategory category_id  \\\n",
       "0          68.00            406  Cameras & Camcorders Accessories           4   \n",
       "1         427.00            402               Digital SLR Cameras           4   \n",
       "2         665.94            803                        Microwaves           8   \n",
       "3         322.00            402               Digital SLR Cameras           4   \n",
       "4         326.00            301                           Laptops           3   \n",
       "\n",
       "                 category  \n",
       "0  Cameras and camcorders  \n",
       "1  Cameras and camcorders  \n",
       "2         Home Appliances  \n",
       "3  Cameras and camcorders  \n",
       "4               Computers  \n",
       "\n",
       "[5 rows x 31 columns]"
      ]
     },
     "execution_count": 8,
     "metadata": {},
     "output_type": "execute_result"
    }
   ],
   "source": [
    "# ----------------------JOINTURE DES DATASETS------------------------------\n",
    "\n",
    "\n",
    "df_1 = pd.merge(sales, customer, how= \"inner\", on='customer_id')\n",
    "\n",
    "df_2 = pd.merge(df_1, store,how= \"inner\", on='store_id')\n",
    "\n",
    "df = pd.merge(df_2, product,how= \"inner\", on='product_id')\n",
    "\n",
    "df.info()\n",
    "df.head()"
   ]
  },
  {
   "cell_type": "code",
   "execution_count": 9,
   "metadata": {},
   "outputs": [
    {
     "name": "stdout",
     "output_type": "stream",
     "text": [
      "Le chiffre d'affaires total de l'entreprise est : 55755479.59 USD\n"
     ]
    }
   ],
   "source": [
    "# GRAPHIQUE 1: VENTES TOTALES (CHIFFRE D'AFFAIRES)\n",
    "\n",
    "# Calcul des ventes totales pour chaque transaction\n",
    "df['total_sales'] = df['quantity'] * df['unit_price_USD']\n",
    "\n",
    "# Calcul du chiffre d'affaires total\n",
    "total_revenue = df['total_sales'].sum()\n",
    "\n",
    "print(f\"Le chiffre d'affaires total de l'entreprise est : {total_revenue:.2f} USD\")\n"
   ]
  },
  {
   "cell_type": "code",
   "execution_count": 10,
   "metadata": {},
   "outputs": [
    {
     "name": "stdout",
     "output_type": "stream",
     "text": [
      "Requirement already satisfied: tabulate in c:\\users\\auden\\appdata\\local\\programs\\python\\python312\\lib\\site-packages (0.9.0)\n",
      "Note: you may need to restart the kernel to use updated packages.\n"
     ]
    }
   ],
   "source": [
    "pip install tabulate\n"
   ]
  },
  {
   "cell_type": "code",
   "execution_count": 11,
   "metadata": {},
   "outputs": [
    {
     "name": "stdout",
     "output_type": "stream",
     "text": [
      "TOP 5 BEST-SELLING PRODUCT\n",
      "+-----+---------------------------+--------------------+\n",
      "|     |          Produit          |  Total des ventes  |\n",
      "+-----+---------------------------+--------------------+\n",
      "| 199 |   Desktop PC2.33 XD233    |     1814937.0      |\n",
      "| 198 |   Desktop PC2.33 X2330    |     1713016.0      |\n",
      "| 51  |     52\" LCD HDTV X590     | 1432595.0599999998 |\n",
      "| 618 | Water Heater 7.2GPM X1800 |     1221300.0      |\n",
      "| 197 |   Desktop PC2.30 MD230    |     1150444.5      |\n",
      "+-----+---------------------------+--------------------+\n"
     ]
    }
   ],
   "source": [
    "# GRAPHIQUE 2: TOP 5 BEST-SELLING PRODUCT EN FONCTION DU CHIFFRE D'AFFAIRES\n",
    "\n",
    "from tabulate import tabulate\n",
    "product_sales = df.groupby('product_name')['total_sales'].sum().reset_index()\n",
    "\n",
    "# Trier les produits par chiffre d'affaires total en ordre décroissant\n",
    "top_products = product_sales.sort_values(by='total_sales', ascending=False).head(5)\n",
    "top_products.columns = ['Produit', 'Total des ventes']\n",
    "\n",
    "# Affichage des résultats sous forme de tableau\n",
    "print(\"TOP 5 BEST-SELLING PRODUCT\")\n",
    "print(tabulate(top_products, headers='keys', tablefmt='pretty', stralign='center'))"
   ]
  },
  {
   "cell_type": "code",
   "execution_count": 12,
   "metadata": {},
   "outputs": [
    {
     "name": "stderr",
     "output_type": "stream",
     "text": [
      "C:\\Users\\auden\\AppData\\Local\\Temp\\ipykernel_7948\\4170937435.py:17: FutureWarning: \n",
      "\n",
      "Passing `palette` without assigning `hue` is deprecated and will be removed in v0.14.0. Assign the `x` variable to `hue` and set `legend=False` for the same effect.\n",
      "\n",
      "  sns.barplot(data=age_distribution, x='age_group', y='total_sales', palette='viridis')\n",
      "c:\\Users\\auden\\AppData\\Local\\Programs\\Python\\Python312\\Lib\\site-packages\\IPython\\core\\pylabtools.py:170: UserWarning: Glyph 7 (\u0007) missing from font(s) DejaVu Sans.\n",
      "  fig.canvas.print_figure(bytes_io, **kw)\n"
     ]
    },
    {
     "data": {
      "image/png": "[encoded data removed]",
      "text/plain": [
       "<Figure size 1000x600 with 1 Axes>"
      ]
     },
     "metadata": {},
     "output_type": "display_data"
    }
   ],
   "source": [
    " # GRAPHIQUE 3:histogramme de repartition des achats par tranche d'age\n",
    "\n",
    "# Calculer l'âge en années\n",
    "today = pd.to_datetime('today')\n",
    "df['age'] = today.year - df['cst_birthday'].dt.year \n",
    "# Définir les tranches d'âge\n",
    "bins = [0, 18, 25, 35, 45, 55, 65, 100]\n",
    "labels = ['0-17', '18-24', '25-34', '35-44', '45-54', '55-64', '65+']\n",
    "df['age_group'] = pd.cut(df['age'], bins=bins, labels=labels, right=False)\n",
    "\n",
    "# Agréger les quantités d'achats par tranche d'âge\n",
    "age_distribution = df.groupby('age_group', observed=False)['total_sales'].sum().reset_index()\n",
    "# Ajouter une colonne `hue` fictive pour éviter l'avertissement\n",
    "\n",
    "# Tracer l'histogramme\n",
    "plt.figure(figsize=(10, 6))\n",
    "sns.barplot(data=age_distribution, x='age_group', y='total_sales', palette='viridis')\n",
    "plt.title('Répartition du chiffre d\\affaires par tranche d\\'âge')\n",
    "plt.xlabel('Tranche d\\'âge')\n",
    "plt.ylabel('Quantité d\\'achats')\n",
    "plt.show()"
   ]
  },
  {
   "cell_type": "code",
   "execution_count": 14,
   "metadata": {},
   "outputs": [
    {
     "data": {
      "application/vnd.plotly.v1+json": {
       "config": {
        "plotlyServerURL": "https://plot.ly"
       },
       "data": [
        {
         "alignmentgroup": "True",
         "hovertemplate": "brand=A. Datum<br>Chiffre d'affaires (USD)=%{x}<br>Année=%{y}<extra></extra>",
         "legendgroup": "A. Datum",
         "marker": {
          "color": "#440154",
          "pattern": {
           "shape": ""
          }
         },
         "name": "A. Datum",
         "offsetgroup": "A. Datum",
         "orientation": "h",
         "showlegend": true,
         "textposition": "auto",
         "type": "bar",
         "x": [
          31138.3,
          29786.1,
          69219.3,
          112138,
          63419.9,
          5538
         ],
         "xaxis": "x",
         "y": [
          2016,
          2017,
          2018,
          2019,
          2020,
          2021
         ],
         "yaxis": "y"
        },
        {
         "alignmentgroup": "True",
         "hovertemplate": "brand=Adventure Works<br>Chiffre d'affaires (USD)=%{x}<br>Année=%{y}<extra></extra>",
         "legendgroup": "Adventure Works",
         "marker": {
          "color": "#482878",
          "pattern": {
           "shape": ""
          }
         },
         "name": "Adventure Works",
         "offsetgroup": "Adventure Works",
         "orientation": "h",
         "showlegend": true,
         "textposition": "auto",
         "type": "bar",
         "x": [
          233852.05,
          313063.93,
          508041.37,
          792082.76,
          412473.14,
          100819.13
         ],
         "xaxis": "x",
         "y": [
          2016,
          2017,
          2018,
          2019,
          2020,
          2021
         ],
         "yaxis": "y"
        },
        {
         "alignmentgroup": "True",
         "hovertemplate": "brand=Contoso<br>Chiffre d'affaires (USD)=%{x}<br>Année=%{y}<extra></extra>",
         "legendgroup": "Contoso",
         "marker": {
          "color": "#3e4989",
          "pattern": {
           "shape": ""
          }
         },
         "name": "Contoso",
         "offsetgroup": "Contoso",
         "orientation": "h",
         "showlegend": true,
         "textposition": "auto",
         "type": "bar",
         "x": [
          295053.43,
          269012.27,
          541029.68,
          764940.84,
          317292.52,
          43383.98
         ],
         "xaxis": "x",
         "y": [
          2016,
          2017,
          2018,
          2019,
          2020,
          2021
         ],
         "yaxis": "y"
        },
        {
         "alignmentgroup": "True",
         "hovertemplate": "brand=Fabrikam<br>Chiffre d'affaires (USD)=%{x}<br>Année=%{y}<extra></extra>",
         "legendgroup": "Fabrikam",
         "marker": {
          "color": "#31688e",
          "pattern": {
           "shape": ""
          }
         },
         "name": "Fabrikam",
         "offsetgroup": "Fabrikam",
         "orientation": "h",
         "showlegend": true,
         "textposition": "auto",
         "type": "bar",
         "x": [
          93033.44,
          194405.44,
          277114.67,
          438210.2,
          237059.7,
          16534.489999999998
         ],
         "xaxis": "x",
         "y": [
          2016,
          2017,
          2018,
          2019,
          2020,
          2021
         ],
         "yaxis": "y"
        },
        {
         "alignmentgroup": "True",
         "hovertemplate": "brand=Litware<br>Chiffre d'affaires (USD)=%{x}<br>Année=%{y}<extra></extra>",
         "legendgroup": "Litware",
         "marker": {
          "color": "#26828e",
          "pattern": {
           "shape": ""
          }
         },
         "name": "Litware",
         "offsetgroup": "Litware",
         "orientation": "h",
         "showlegend": true,
         "textposition": "auto",
         "type": "bar",
         "x": [
          64378.53,
          77956.07,
          130592.47,
          138745.4,
          86758.77,
          24131.33
         ],
         "xaxis": "x",
         "y": [
          2016,
          2017,
          2018,
          2019,
          2020,
          2021
         ],
         "yaxis": "y"
        },
        {
         "alignmentgroup": "True",
         "hovertemplate": "brand=Northwind Traders<br>Chiffre d'affaires (USD)=%{x}<br>Année=%{y}<extra></extra>",
         "legendgroup": "Northwind Traders",
         "marker": {
          "color": "#1f9e89",
          "pattern": {
           "shape": ""
          }
         },
         "name": "Northwind Traders",
         "offsetgroup": "Northwind Traders",
         "orientation": "h",
         "showlegend": true,
         "textposition": "auto",
         "type": "bar",
         "x": [
          38199.06,
          34084.78,
          80746.09000000001,
          74969.85,
          18236.39,
          836.7600000000001
         ],
         "xaxis": "x",
         "y": [
          2016,
          2017,
          2018,
          2019,
          2020,
          2021
         ],
         "yaxis": "y"
        },
        {
         "alignmentgroup": "True",
         "hovertemplate": "brand=Proseware<br>Chiffre d'affaires (USD)=%{x}<br>Année=%{y}<extra></extra>",
         "legendgroup": "Proseware",
         "marker": {
          "color": "#35b779",
          "pattern": {
           "shape": ""
          }
         },
         "name": "Proseware",
         "offsetgroup": "Proseware",
         "orientation": "h",
         "showlegend": true,
         "textposition": "auto",
         "type": "bar",
         "x": [
          41635.88,
          90620.8,
          143712.61,
          227475.14,
          165363.96,
          11146.91
         ],
         "xaxis": "x",
         "y": [
          2016,
          2017,
          2018,
          2019,
          2020,
          2021
         ],
         "yaxis": "y"
        },
        {
         "alignmentgroup": "True",
         "hovertemplate": "brand=Southridge Video<br>Chiffre d'affaires (USD)=%{x}<br>Année=%{y}<extra></extra>",
         "legendgroup": "Southridge Video",
         "marker": {
          "color": "#6ece58",
          "pattern": {
           "shape": ""
          }
         },
         "name": "Southridge Video",
         "offsetgroup": "Southridge Video",
         "orientation": "h",
         "showlegend": true,
         "textposition": "auto",
         "type": "bar",
         "x": [
          58486.17,
          72681.85,
          97165.35,
          161929.08000000002,
          112132.18000000001,
          14996.060000000001
         ],
         "xaxis": "x",
         "y": [
          2016,
          2017,
          2018,
          2019,
          2020,
          2021
         ],
         "yaxis": "y"
        },
        {
         "alignmentgroup": "True",
         "hovertemplate": "brand=Tailspin Toys<br>Chiffre d'affaires (USD)=%{x}<br>Année=%{y}<extra></extra>",
         "legendgroup": "Tailspin Toys",
         "marker": {
          "color": "#b5de2b",
          "pattern": {
           "shape": ""
          }
         },
         "name": "Tailspin Toys",
         "offsetgroup": "Tailspin Toys",
         "orientation": "h",
         "showlegend": true,
         "textposition": "auto",
         "type": "bar",
         "x": [
          7638.94,
          14500.21,
          27205.87,
          63636.14,
          26646.86,
          2069.38
         ],
         "xaxis": "x",
         "y": [
          2016,
          2017,
          2018,
          2019,
          2020,
          2021
         ],
         "yaxis": "y"
        },
        {
         "alignmentgroup": "True",
         "hovertemplate": "brand=The Phone Company<br>Chiffre d'affaires (USD)=%{x}<br>Année=%{y}<extra></extra>",
         "legendgroup": "The Phone Company",
         "marker": {
          "color": "#fde725",
          "pattern": {
           "shape": ""
          }
         },
         "name": "The Phone Company",
         "offsetgroup": "The Phone Company",
         "orientation": "h",
         "showlegend": true,
         "textposition": "auto",
         "type": "bar",
         "x": [
          66944,
          97984,
          264083,
          438886,
          286601,
          41531
         ],
         "xaxis": "x",
         "y": [
          2016,
          2017,
          2018,
          2019,
          2020,
          2021
         ],
         "yaxis": "y"
        },
        {
         "alignmentgroup": "True",
         "hovertemplate": "brand=Wide World Importers<br>Chiffre d'affaires (USD)=%{x}<br>Année=%{y}<extra></extra>",
         "legendgroup": "Wide World Importers",
         "marker": {
          "color": "#440154",
          "pattern": {
           "shape": ""
          }
         },
         "name": "Wide World Importers",
         "offsetgroup": "Wide World Importers",
         "orientation": "h",
         "showlegend": true,
         "textposition": "auto",
         "type": "bar",
         "x": [
          150936.99,
          226111.04,
          414479.2,
          685186.52,
          409170.19,
          55090.16
         ],
         "xaxis": "x",
         "y": [
          2016,
          2017,
          2018,
          2019,
          2020,
          2021
         ],
         "yaxis": "y"
        }
       ],
       "layout": {
        "barmode": "stack",
        "height": 600,
        "legend": {
         "orientation": "h",
         "title": {
          "text": "brand"
         },
         "tracegroupgap": 0,
         "x": 1,
         "xanchor": "right",
         "y": 1,
         "yanchor": "bottom"
        },
        "template": {
         "data": {
          "bar": [
           {
            "error_x": {
             "color": "#2a3f5f"
            },
            "error_y": {
             "color": "#2a3f5f"
            },
            "marker": {
             "line": {
              "color": "#E5ECF6",
              "width": 0.5
             },
             "pattern": {
              "fillmode": "overlay",
              "size": 10,
              "solidity": 0.2
             }
            },
            "type": "bar"
           }
          ],
          "barpolar": [
           {
            "marker": {
             "line": {
              "color": "#E5ECF6",
              "width": 0.5
             },
             "pattern": {
              "fillmode": "overlay",
              "size": 10,
              "solidity": 0.2
             }
            },
            "type": "barpolar"
           }
          ],
          "carpet": [
           {
            "aaxis": {
             "endlinecolor": "#2a3f5f",
             "gridcolor": "white",
             "linecolor": "white",
             "minorgridcolor": "white",
             "startlinecolor": "#2a3f5f"
            },
            "baxis": {
             "endlinecolor": "#2a3f5f",
             "gridcolor": "white",
             "linecolor": "white",
             "minorgridcolor": "white",
             "startlinecolor": "#2a3f5f"
            },
            "type": "carpet"
           }
          ],
          "choropleth": [
           {
            "colorbar": {
             "outlinewidth": 0,
             "ticks": ""
            },
            "type": "choropleth"
           }
          ],
          "contour": [
           {
            "colorbar": {
             "outlinewidth": 0,
             "ticks": ""
            },
            "colorscale": [
             [
              0,
              "#0d0887"
             ],
             [
              0.1111111111111111,
              "#46039f"
             ],
             [
              0.2222222222222222,
              "#7201a8"
             ],
             [
              0.3333333333333333,
              "#9c179e"
             ],
             [
              0.4444444444444444,
              "#bd3786"
             ],
             [
              0.5555555555555556,
              "#d8576b"
             ],
             [
              0.6666666666666666,
              "#ed7953"
             ],
             [
              0.7777777777777778,
              "#fb9f3a"
             ],
             [
              0.8888888888888888,
              "#fdca26"
             ],
             [
              1,
              "#f0f921"
             ]
            ],
            "type": "contour"
           }
          ],
          "contourcarpet": [
           {
            "colorbar": {
             "outlinewidth": 0,
             "ticks": ""
            },
            "type": "contourcarpet"
           }
          ],
          "heatmap": [
           {
            "colorbar": {
             "outlinewidth": 0,
             "ticks": ""
            },
            "colorscale": [
             [
              0,
              "#0d0887"
             ],
             [
              0.1111111111111111,
              "#46039f"
             ],
             [
              0.2222222222222222,
              "#7201a8"
             ],
             [
              0.3333333333333333,
              "#9c179e"
             ],
             [
              0.4444444444444444,
              "#bd3786"
             ],
             [
              0.5555555555555556,
              "#d8576b"
             ],
             [
              0.6666666666666666,
              "#ed7953"
             ],
             [
              0.7777777777777778,
              "#fb9f3a"
             ],
             [
              0.8888888888888888,
              "#fdca26"
             ],
             [
              1,
              "#f0f921"
             ]
            ],
            "type": "heatmap"
           }
          ],
          "heatmapgl": [
           {
            "colorbar": {
             "outlinewidth": 0,
             "ticks": ""
            },
            "colorscale": [
             [
              0,
              "#0d0887"
             ],
             [
              0.1111111111111111,
              "#46039f"
             ],
             [
              0.2222222222222222,
              "#7201a8"
             ],
             [
              0.3333333333333333,
              "#9c179e"
             ],
             [
              0.4444444444444444,
              "#bd3786"
             ],
             [
              0.5555555555555556,
              "#d8576b"
             ],
             [
              0.6666666666666666,
              "#ed7953"
             ],
             [
              0.7777777777777778,
              "#fb9f3a"
             ],
             [
              0.8888888888888888,
              "#fdca26"
             ],
             [
              1,
              "#f0f921"
             ]
            ],
            "type": "heatmapgl"
           }
          ],
          "histogram": [
           {
            "marker": {
             "pattern": {
              "fillmode": "overlay",
              "size": 10,
              "solidity": 0.2
             }
            },
            "type": "histogram"
           }
          ],
          "histogram2d": [
           {
            "colorbar": {
             "outlinewidth": 0,
             "ticks": ""
            },
            "colorscale": [
             [
              0,
              "#0d0887"
             ],
             [
              0.1111111111111111,
              "#46039f"
             ],
             [
              0.2222222222222222,
              "#7201a8"
             ],
             [
              0.3333333333333333,
              "#9c179e"
             ],
             [
              0.4444444444444444,
              "#bd3786"
             ],
             [
              0.5555555555555556,
              "#d8576b"
             ],
             [
              0.6666666666666666,
              "#ed7953"
             ],
             [
              0.7777777777777778,
              "#fb9f3a"
             ],
             [
              0.8888888888888888,
              "#fdca26"
             ],
             [
              1,
              "#f0f921"
             ]
            ],
            "type": "histogram2d"
           }
          ],
          "histogram2dcontour": [
           {
            "colorbar": {
             "outlinewidth": 0,
             "ticks": ""
            },
            "colorscale": [
             [
              0,
              "#0d0887"
             ],
             [
              0.1111111111111111,
              "#46039f"
             ],
             [
              0.2222222222222222,
              "#7201a8"
             ],
             [
              0.3333333333333333,
              "#9c179e"
             ],
             [
              0.4444444444444444,
              "#bd3786"
             ],
             [
              0.5555555555555556,
              "#d8576b"
             ],
             [
              0.6666666666666666,
              "#ed7953"
             ],
             [
              0.7777777777777778,
              "#fb9f3a"
             ],
             [
              0.8888888888888888,
              "#fdca26"
             ],
             [
              1,
              "#f0f921"
             ]
            ],
            "type": "histogram2dcontour"
           }
          ],
          "mesh3d": [
           {
            "colorbar": {
             "outlinewidth": 0,
             "ticks": ""
            },
            "type": "mesh3d"
           }
          ],
          "parcoords": [
           {
            "line": {
             "colorbar": {
              "outlinewidth": 0,
              "ticks": ""
             }
            },
            "type": "parcoords"
           }
          ],
          "pie": [
           {
            "automargin": true,
            "type": "pie"
           }
          ],
          "scatter": [
           {
            "fillpattern": {
             "fillmode": "overlay",
             "size": 10,
             "solidity": 0.2
            },
            "type": "scatter"
           }
          ],
          "scatter3d": [
           {
            "line": {
             "colorbar": {
              "outlinewidth": 0,
              "ticks": ""
             }
            },
            "marker": {
             "colorbar": {
              "outlinewidth": 0,
              "ticks": ""
             }
            },
            "type": "scatter3d"
           }
          ],
          "scattercarpet": [
           {
            "marker": {
             "colorbar": {
              "outlinewidth": 0,
              "ticks": ""
             }
            },
            "type": "scattercarpet"
           }
          ],
          "scattergeo": [
           {
            "marker": {
             "colorbar": {
              "outlinewidth": 0,
              "ticks": ""
             }
            },
            "type": "scattergeo"
           }
          ],
          "scattergl": [
           {
            "marker": {
             "colorbar": {
              "outlinewidth": 0,
              "ticks": ""
             }
            },
            "type": "scattergl"
           }
          ],
          "scattermapbox": [
           {
            "marker": {
             "colorbar": {
              "outlinewidth": 0,
              "ticks": ""
             }
            },
            "type": "scattermapbox"
           }
          ],
          "scatterpolar": [
           {
            "marker": {
             "colorbar": {
              "outlinewidth": 0,
              "ticks": ""
             }
            },
            "type": "scatterpolar"
           }
          ],
          "scatterpolargl": [
           {
            "marker": {
             "colorbar": {
              "outlinewidth": 0,
              "ticks": ""
             }
            },
            "type": "scatterpolargl"
           }
          ],
          "scatterternary": [
           {
            "marker": {
             "colorbar": {
              "outlinewidth": 0,
              "ticks": ""
             }
            },
            "type": "scatterternary"
           }
          ],
          "surface": [
           {
            "colorbar": {
             "outlinewidth": 0,
             "ticks": ""
            },
            "colorscale": [
             [
              0,
              "#0d0887"
             ],
             [
              0.1111111111111111,
              "#46039f"
             ],
             [
              0.2222222222222222,
              "#7201a8"
             ],
             [
              0.3333333333333333,
              "#9c179e"
             ],
             [
              0.4444444444444444,
              "#bd3786"
             ],
             [
              0.5555555555555556,
              "#d8576b"
             ],
             [
              0.6666666666666666,
              "#ed7953"
             ],
             [
              0.7777777777777778,
              "#fb9f3a"
             ],
             [
              0.8888888888888888,
              "#fdca26"
             ],
             [
              1,
              "#f0f921"
             ]
            ],
            "type": "surface"
           }
          ],
          "table": [
           {
            "cells": {
             "fill": {
              "color": "#EBF0F8"
             },
             "line": {
              "color": "white"
             }
            },
            "header": {
             "fill": {
              "color": "#C8D4E3"
             },
             "line": {
              "color": "white"
             }
            },
            "type": "table"
           }
          ]
         },
         "layout": {
          "annotationdefaults": {
           "arrowcolor": "#2a3f5f",
           "arrowhead": 0,
           "arrowwidth": 1
          },
          "autotypenumbers": "strict",
          "coloraxis": {
           "colorbar": {
            "outlinewidth": 0,
            "ticks": ""
           }
          },
          "colorscale": {
           "diverging": [
            [
             0,
             "#8e0152"
            ],
            [
             0.1,
             "#c51b7d"
            ],
            [
             0.2,
             "#de77ae"
            ],
            [
             0.3,
             "#f1b6da"
            ],
            [
             0.4,
             "#fde0ef"
            ],
            [
             0.5,
             "#f7f7f7"
            ],
            [
             0.6,
             "#e6f5d0"
            ],
            [
             0.7,
             "#b8e186"
            ],
            [
             0.8,
             "#7fbc41"
            ],
            [
             0.9,
             "#4d9221"
            ],
            [
             1,
             "#276419"
            ]
           ],
           "sequential": [
            [
             0,
             "#0d0887"
            ],
            [
             0.1111111111111111,
             "#46039f"
            ],
            [
             0.2222222222222222,
             "#7201a8"
            ],
            [
             0.3333333333333333,
             "#9c179e"
            ],
            [
             0.4444444444444444,
             "#bd3786"
            ],
            [
             0.5555555555555556,
             "#d8576b"
            ],
            [
             0.6666666666666666,
             "#ed7953"
            ],
            [
             0.7777777777777778,
             "#fb9f3a"
            ],
            [
             0.8888888888888888,
             "#fdca26"
            ],
            [
             1,
             "#f0f921"
            ]
           ],
           "sequentialminus": [
            [
             0,
             "#0d0887"
            ],
            [
             0.1111111111111111,
             "#46039f"
            ],
            [
             0.2222222222222222,
             "#7201a8"
            ],
            [
             0.3333333333333333,
             "#9c179e"
            ],
            [
             0.4444444444444444,
             "#bd3786"
            ],
            [
             0.5555555555555556,
             "#d8576b"
            ],
            [
             0.6666666666666666,
             "#ed7953"
            ],
            [
             0.7777777777777778,
             "#fb9f3a"
            ],
            [
             0.8888888888888888,
             "#fdca26"
            ],
            [
             1,
             "#f0f921"
            ]
           ]
          },
          "colorway": [
           "#636efa",
           "#EF553B",
           "#00cc96",
           "#ab63fa",
           "#FFA15A",
           "#19d3f3",
           "#FF6692",
           "#B6E880",
           "#FF97FF",
           "#FECB52"
          ],
          "font": {
           "color": "#2a3f5f"
          },
          "geo": {
           "bgcolor": "white",
           "lakecolor": "white",
           "landcolor": "#E5ECF6",
           "showlakes": true,
           "showland": true,
           "subunitcolor": "white"
          },
          "hoverlabel": {
           "align": "left"
          },
          "hovermode": "closest",
          "mapbox": {
           "style": "light"
          },
          "paper_bgcolor": "white",
          "plot_bgcolor": "#E5ECF6",
          "polar": {
           "angularaxis": {
            "gridcolor": "white",
            "linecolor": "white",
            "ticks": ""
           },
           "bgcolor": "#E5ECF6",
           "radialaxis": {
            "gridcolor": "white",
            "linecolor": "white",
            "ticks": ""
           }
          },
          "scene": {
           "xaxis": {
            "backgroundcolor": "#E5ECF6",
            "gridcolor": "white",
            "gridwidth": 2,
            "linecolor": "white",
            "showbackground": true,
            "ticks": "",
            "zerolinecolor": "white"
           },
           "yaxis": {
            "backgroundcolor": "#E5ECF6",
            "gridcolor": "white",
            "gridwidth": 2,
            "linecolor": "white",
            "showbackground": true,
            "ticks": "",
            "zerolinecolor": "white"
           },
           "zaxis": {
            "backgroundcolor": "#E5ECF6",
            "gridcolor": "white",
            "gridwidth": 2,
            "linecolor": "white",
            "showbackground": true,
            "ticks": "",
            "zerolinecolor": "white"
           }
          },
          "shapedefaults": {
           "line": {
            "color": "#2a3f5f"
           }
          },
          "ternary": {
           "aaxis": {
            "gridcolor": "white",
            "linecolor": "white",
            "ticks": ""
           },
           "baxis": {
            "gridcolor": "white",
            "linecolor": "white",
            "ticks": ""
           },
           "bgcolor": "#E5ECF6",
           "caxis": {
            "gridcolor": "white",
            "linecolor": "white",
            "ticks": ""
           }
          },
          "title": {
           "x": 0.05
          },
          "xaxis": {
           "automargin": true,
           "gridcolor": "white",
           "linecolor": "white",
           "ticks": "",
           "title": {
            "standoff": 15
           },
           "zerolinecolor": "white",
           "zerolinewidth": 2
          },
          "yaxis": {
           "automargin": true,
           "gridcolor": "white",
           "linecolor": "white",
           "ticks": "",
           "title": {
            "standoff": 15
           },
           "zerolinecolor": "white",
           "zerolinewidth": 2
          }
         }
        },
        "title": {
         "font": {
          "color": "black",
          "family": "Arial",
          "size": 20
         },
         "text": "Part de chaque marque dans le chiffre d'affaire par année",
         "x": 0.5,
         "xanchor": "center",
         "y": 0.95,
         "yanchor": "top"
        },
        "xaxis": {
         "anchor": "y",
         "domain": [
          0,
          1
         ],
         "title": {
          "text": "Chiffre d'affaires (USD)"
         }
        },
        "yaxis": {
         "anchor": "x",
         "domain": [
          0,
          1
         ],
         "title": {
          "text": "Année"
         }
        }
       }
      }
     },
     "metadata": {},
     "output_type": "display_data"
    }
   ],
   "source": [
    "# GRAPHIQUE 4:\n",
    "import plotly.express as px\n",
    "\n",
    "# Assurez-vous que les dates sont bien formatées\n",
    "df['delivery_date'] = pd.to_datetime(df['delivery_date'], errors='coerce')\n",
    "\n",
    "# Extraire l'année\n",
    "df['delivery_year'] = df['delivery_date'].dt.year\n",
    "\n",
    "# Agréger les ventes totales par marque et par année\n",
    "annual_brand_sales = df.groupby(['delivery_year', 'brand'])['total_sales'].sum().reset_index()\n",
    "\n",
    "# Créer le graphique à barres empilées horizontal avec plotly\n",
    "fig = px.bar(\n",
    "    annual_brand_sales,\n",
    "    x='total_sales',\n",
    "    y='delivery_year',\n",
    "    color='brand',\n",
    "    orientation='h',\n",
    "    title='Part de chaque marque dans le chiffre d\\'affaires par année',\n",
    "    labels={'total_sales': 'Chiffre d\\'affaires (USD)', 'delivery_year': 'Année'},\n",
    "    color_discrete_sequence=px.colors.sequential.Viridis,\n",
    "    height=600\n",
    ")\n",
    "\n",
    "# Personnaliser la légende en haut\n",
    "fig.update_layout(\n",
    "    legend=dict(\n",
    "        orientation='h',\n",
    "        yanchor='bottom',\n",
    "        y=1,\n",
    "        xanchor='right',\n",
    "        x=1\n",
    "    ),\n",
    "    xaxis_title='Chiffre d\\'affaires (USD)',\n",
    "    yaxis_title='Année',\n",
    "    barmode='stack',\n",
    "    title={\n",
    "        'text': \"Part de chaque marque dans le chiffre d'affaire par année\",\n",
    "        'x': 0.5, # Position horizontale du titre (0= gauche, 0.5=centre, 1=droite)\n",
    "        'y': 0.95, # Position verticale du titre\n",
    "        'xanchor': 'center',\n",
    "        'yanchor': 'top',\n",
    "        'font': dict(size=20, color='black', family='Arial')\n",
    "    },\n",
    ")\n",
    "\n",
    "# Afficher le graphique\n",
    "fig.show()\n"
   ]
  },
  {
   "cell_type": "code",
   "execution_count": 24,
   "metadata": {},
   "outputs": [
    {
     "name": "stdout",
     "output_type": "stream",
     "text": [
      "Le temps de livraison moyen est de 4.11 jours.\n"
     ]
    }
   ],
   "source": [
    "# GRAPHIQUE 5: TEMPS DE LIVRAISON MOYENNE\n",
    "\n",
    "sales['delivery_delay'] = sales['delivery_date'].fillna(pd.to_datetime('NaT')) - sales['order_date']\n",
    "sales['delivery_delay'] = sales['delivery_delay'].dt.days.fillna(-1)  # Remplacer NaT par -1\n",
    "\n",
    "mean_delivery_delay = sales[sales['delivery_delay'] > -1]['delivery_delay'].mean() \n",
    "sales['delivery_date'] = sales.apply(lambda row: row['order_date'] + pd.Timedelta(days=mean_delivery_delay) if row['delivery_delay'] == -1 else row['delivery_date'],\n",
    "    axis=1)\n",
    "\n",
    "print(f\"Le temps de livraison moyen est de {mean_delivery_delay:.2f} jours.\")\n",
    " # Pour remplacer les dates de livraison manquantes par la date de commande plus le retard moyen (en excluant les non-livraisons)"
   ]
  },
  {
   "cell_type": "code",
   "execution_count": 15,
   "metadata": {},
   "outputs": [
    {
     "name": "stdout",
     "output_type": "stream",
     "text": [
      "Note: you may need to restart the kernel to use updated packages.\n"
     ]
    },
    {
     "name": "stderr",
     "output_type": "stream",
     "text": [
      "ERROR: Could not find a version that satisfies the requirement statsmodels.tsa.api (from versions: none)\n",
      "ERROR: No matching distribution found for statsmodels.tsa.api\n"
     ]
    }
   ],
   "source": [
    "pip install statsmodels.tsa.api"
   ]
  },
  {
   "cell_type": "code",
   "execution_count": null,
   "metadata": {},
   "outputs": [
    {
     "ename": "NameError",
     "evalue": "name 'df' is not defined",
     "output_type": "error",
     "traceback": [
      "\u001b[1;31m---------------------------------------------------------------------------\u001b[0m",
      "\u001b[1;31mNameError\u001b[0m                                 Traceback (most recent call last)",
      "Cell \u001b[1;32mIn[1], line 1\u001b[0m\n\u001b[1;32m----> 1\u001b[0m df[\u001b[38;5;124m'\u001b[39m\u001b[38;5;124morder_year\u001b[39m\u001b[38;5;124m'\u001b[39m] \u001b[38;5;241m=\u001b[39m \u001b[43mdf\u001b[49m[\u001b[38;5;124m'\u001b[39m\u001b[38;5;124morder_date\u001b[39m\u001b[38;5;124m'\u001b[39m]\u001b[38;5;241m.\u001b[39mdt\u001b[38;5;241m.\u001b[39myear\n\u001b[0;32m      2\u001b[0m annual_sales \u001b[38;5;241m=\u001b[39m df\u001b[38;5;241m.\u001b[39mgroupby(\u001b[38;5;124m'\u001b[39m\u001b[38;5;124morder_year\u001b[39m\u001b[38;5;124m'\u001b[39m)[\u001b[38;5;124m'\u001b[39m\u001b[38;5;124mtotal_sales\u001b[39m\u001b[38;5;124m'\u001b[39m]\u001b[38;5;241m.\u001b[39msum()\u001b[38;5;241m.\u001b[39mreset_index()\n\u001b[0;32m      4\u001b[0m \u001b[38;5;28;01mfrom\u001b[39;00m \u001b[38;5;21;01mstatsmodels\u001b[39;00m\u001b[38;5;21;01m.\u001b[39;00m\u001b[38;5;21;01mtsa\u001b[39;00m\u001b[38;5;21;01m.\u001b[39;00m\u001b[38;5;21;01mapi\u001b[39;00m \u001b[38;5;28;01mimport\u001b[39;00m ExponentialSmoothing\n",
      "\u001b[1;31mNameError\u001b[0m: name 'df' is not defined"
     ]
    }
   ],
   "source": [
    "df['order_year'] = df['order_date'].dt.year\n",
    "annual_sales = df.groupby('order_year')['total_sales'].sum().reset_index()\n",
    "\n",
    "from statsmodels.tsa.api import ExponentialSmoothing\n",
    "\n",
    "# Définir l'index sur les années\n",
    "annual_sales.set_index('order_year', inplace=True)\n",
    "\n",
    "# Créer et ajuster le modèle\n",
    "model = ExponentialSmoothing(annual_sales['total_sales'], trend='add', seasonal=None)\n",
    "model_fit = model.fit()\n",
    "\n",
    "# Prévisions\n",
    "forecast_periods = 5\n",
    "forecast = model_fit.get_forecast(steps=forecast_periods)\n",
    "forecast_index = range(annual_sales.index.max() + 1, annual_sales.index.max() + 1 + forecast_periods)\n",
    "forecast_df = pd.DataFrame({\n",
    "    'forecast': forecast.predicted_mean,\n",
    "    'lower_ci': forecast.conf_int(alpha=0.05)['lower total_sales'],\n",
    "    'upper_ci': forecast.conf_int(alpha=0.05)['upper total_sales']\n",
    "}, index=forecast_index)\n"
   ]
  }
 ],
 "metadata": {
  "kernelspec": {
   "display_name": "Python 3",
   "language": "python",
   "name": "python3"
  },
  "language_info": {
   "codemirror_mode": {
    "name": "ipython",
    "version": 3
   },
   "file_extension": ".py",
   "mimetype": "text/x-python",
   "name": "python",
   "nbconvert_exporter": "python",
   "pygments_lexer": "ipython3",
   "version": "3.12.4"
  }
 },
 "nbformat": 4,
 "nbformat_minor": 2
}
